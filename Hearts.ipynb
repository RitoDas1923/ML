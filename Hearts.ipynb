{
  "nbformat": 4,
  "nbformat_minor": 0,
  "metadata": {
    "colab": {
      "name": "Hearts.ipynb",
      "provenance": [],
      "collapsed_sections": [],
      "toc_visible": true,
      "authorship_tag": "ABX9TyOuQOZWVSmZO4KWL33AXL+r",
      "include_colab_link": true
    },
    "kernelspec": {
      "name": "python3",
      "display_name": "Python 3"
    },
    "language_info": {
      "name": "python"
    }
  },
  "cells": [
    {
      "cell_type": "markdown",
      "metadata": {
        "id": "view-in-github",
        "colab_type": "text"
      },
      "source": [
        "<a href=\"https://colab.research.google.com/github/RitoDas1923/ML/blob/main/Hearts.ipynb\" target=\"_parent\"><img src=\"https://colab.research.google.com/assets/colab-badge.svg\" alt=\"Open In Colab\"/></a>"
      ]
    },
    {
      "cell_type": "code",
      "execution_count": 1,
      "metadata": {
        "id": "G5o0QM0w0QZj"
      },
      "outputs": [],
      "source": [
        "import numpy as np\n",
        "import pandas as pd\n",
        "import matplotlib.pyplot as plt\n",
        "import seaborn as sns\n",
        "%matplotlib inline"
      ]
    },
    {
      "cell_type": "code",
      "execution_count": 3,
      "metadata": {
        "id": "L3q2m9TI0QZl"
      },
      "outputs": [],
      "source": [
        "df = pd.read_csv('https://raw.githubusercontent.com/RitoDas1923/ML_Datasets/main/heart.csv')"
      ]
    },
    {
      "cell_type": "markdown",
      "source": [
        "\n",
        "\n",
        "\n",
        "\n",
        "# Exploratory Data Analysis and Feature Engineering\n"
      ],
      "metadata": {
        "id": "nGCwaDy08q7Y"
      }
    },
    {
      "cell_type": "code",
      "source": [
        "df.head()"
      ],
      "metadata": {
        "id": "A5-hNi0p6AO2"
      },
      "execution_count": null,
      "outputs": []
    },
    {
      "cell_type": "code",
      "source": [
        "df.info()"
      ],
      "metadata": {
        "id": "Mzzcm9_U6G-h"
      },
      "execution_count": null,
      "outputs": []
    },
    {
      "cell_type": "code",
      "source": [
        "df.isna().any()"
      ],
      "metadata": {
        "id": "6SBUlddH6NqB"
      },
      "execution_count": null,
      "outputs": []
    },
    {
      "cell_type": "code",
      "source": [
        "corr_target = df.corr()['target'][:-1].sort_values()\n",
        "print(corr_target)\n",
        "corr_target.plot(kind='bar')"
      ],
      "metadata": {
        "id": "wmnEjJdR6ZqD"
      },
      "execution_count": null,
      "outputs": []
    },
    {
      "cell_type": "code",
      "source": [
        "sns.countplot(x=df['target'])"
      ],
      "metadata": {
        "id": "dv9lQt_x62jz"
      },
      "execution_count": null,
      "outputs": []
    },
    {
      "cell_type": "markdown",
      "source": [
        "\n",
        "# Train - Test Split"
      ],
      "metadata": {
        "id": "hG4dsV3U88Jy"
      }
    },
    {
      "cell_type": "code",
      "source": [
        "from sklearn.model_selection import train_test_split\n",
        "x = df.drop(['target','fbs'],axis = 1) # Since fbs has almost negiligible correlation value . Thus removing it increases accuracy.\n",
        "y = df['target']\n",
        "x_train,x_test,y_train,y_test = train_test_split(x, y, test_size = 0.3, train_size = 0.7, random_state = 42)"
      ],
      "metadata": {
        "id": "nlXrmjrP7wXk"
      },
      "execution_count": null,
      "outputs": []
    },
    {
      "cell_type": "markdown",
      "source": [
        "# Preprocessing Using Quartile Transformation"
      ],
      "metadata": {
        "id": "6uUy6JDS9I8G"
      }
    },
    {
      "cell_type": "code",
      "source": [
        "from sklearn import preprocessing\n",
        "quantile_transformer = preprocessing.QuantileTransformer(n_quantiles=212,random_state=42)\n",
        "x_train_trans = quantile_transformer.fit_transform(x_train)\n",
        "x_test_trans = quantile_transformer.transform(x_test)"
      ],
      "metadata": {
        "id": "NF1vBOUH8wYe"
      },
      "execution_count": null,
      "outputs": []
    },
    {
      "cell_type": "markdown",
      "source": [
        "# Logistic Regression\n"
      ],
      "metadata": {
        "id": "BWlspMTY9Yae"
      }
    },
    {
      "cell_type": "code",
      "source": [
        "from sklearn.linear_model import LogisticRegression\n",
        "lg = LogisticRegression()\n",
        "lg.fit(x_train_trans,y_train)"
      ],
      "metadata": {
        "colab": {
          "base_uri": "https://localhost:8080/"
        },
        "id": "eN8IdJLg9C2i",
        "outputId": "c9ac2e87-1925-4373-ba37-bc6013482eff"
      },
      "execution_count": null,
      "outputs": [
        {
          "output_type": "execute_result",
          "data": {
            "text/plain": [
              "LogisticRegression()"
            ]
          },
          "metadata": {},
          "execution_count": 11
        }
      ]
    },
    {
      "cell_type": "code",
      "source": [
        "pred_lg = lg.predict(x_test_trans)"
      ],
      "metadata": {
        "id": "ji5cHNUC9dMi"
      },
      "execution_count": null,
      "outputs": []
    },
    {
      "cell_type": "code",
      "source": [
        "from sklearn.metrics import confusion_matrix, classification_report\n",
        "from sklearn.metrics import accuracy_score\n",
        "print(confusion_matrix(y_test, pred_lg))\n",
        "print('\\n')\n",
        "print(classification_report(y_test, pred_lg))\n",
        "print(\"Accuracy : \"+str(accuracy_score(y_test,pred_lg)))\n",
        "plt.plot(y_test.tolist())\n",
        "plt.plot(pred_lg)\n",
        "plt.show()"
      ],
      "metadata": {
        "id": "Zc8LPATs-p8T"
      },
      "execution_count": null,
      "outputs": []
    },
    {
      "cell_type": "markdown",
      "source": [
        "\n",
        "# K-Nearest Neighbours"
      ],
      "metadata": {
        "id": "U672vrDo9fSy"
      }
    },
    {
      "cell_type": "code",
      "source": [
        "from sklearn.neighbors import KNeighborsClassifier\n",
        "KNeighborsClassifier().get_params().keys()"
      ],
      "metadata": {
        "id": "cdVqkjk4C8eA"
      },
      "execution_count": null,
      "outputs": []
    },
    {
      "cell_type": "code",
      "source": [
        "from sklearn.model_selection import GridSearchCV\n",
        "knn = KNeighborsClassifier()\n",
        "leaf_size = list(range(1,50))\n",
        "n_neighbors = list(range(1,30))\n",
        "p=[1,2]\n",
        "param_grid = dict(leaf_size=leaf_size, n_neighbors=n_neighbors, p= p)\n",
        "grid_search = GridSearchCV(knn,param_grid,verbose = 1, n_jobs= -1, cv=10)\n",
        "grid_search.fit(x_train_trans,y_train)\n",
        "knn_pred = grid_search.predict(x_test_trans)\n"
      ],
      "metadata": {
        "id": "jgNzDQnX_6Df"
      },
      "execution_count": null,
      "outputs": []
    },
    {
      "cell_type": "code",
      "source": [
        "print(grid_search.best_estimator_)\n",
        "print(confusion_matrix(y_test, knn_pred))\n",
        "print('\\n')\n",
        "print(classification_report(y_test, knn_pred))\n",
        "print(\"Accuracy : \",accuracy_score(y_test,knn_pred))\n",
        "plt.plot(y_test.tolist())\n",
        "plt.plot(knn_pred)\n",
        "plt.show()"
      ],
      "metadata": {
        "id": "jCfL1SW_CsuW"
      },
      "execution_count": null,
      "outputs": []
    },
    {
      "cell_type": "markdown",
      "source": [
        "# Decison Tree"
      ],
      "metadata": {
        "id": "24bguGfl9s6s"
      }
    },
    {
      "cell_type": "code",
      "source": [
        "from sklearn.tree import DecisionTreeClassifier\n",
        "DecisionTreeClassifier().get_params().keys()"
      ],
      "metadata": {
        "id": "iYepFF-8IMVz"
      },
      "execution_count": null,
      "outputs": []
    },
    {
      "cell_type": "code",
      "source": [
        "dtrees = DecisionTreeClassifier()\n",
        "criterion = ['gini','entropy']\n",
        "max_depth = list(range(1,10))\n",
        "min_samples_split = list(range(2,10))\n",
        "min_samples_leaf = list(range(1,5))\n",
        "param_grid = dict(criterion = criterion,max_depth = max_depth,min_samples_split=min_samples_split,min_samples_leaf=min_samples_leaf)\n",
        "grid_search = GridSearchCV(dtrees,param_grid,verbose = 1, n_jobs= -1, cv=10)\n",
        "grid_search.fit(x_train_trans,y_train)\n",
        "pred_dt = grid_search.predict(x_test_trans)"
      ],
      "metadata": {
        "id": "qxUWY9KlNrLu"
      },
      "execution_count": null,
      "outputs": []
    },
    {
      "cell_type": "code",
      "source": [
        "print(grid_search.best_estimator_)\n",
        "print(confusion_matrix(y_test, pred_dt))\n",
        "print('\\n')\n",
        "print(classification_report(y_test, pred_dt))\n",
        "print(\"Accuracy : \",accuracy_score(y_test,pred_dt))\n",
        "plt.plot(y_test.tolist())\n",
        "plt.plot(pred_dt)\n",
        "plt.show()"
      ],
      "metadata": {
        "id": "7uXSUpA6P9dR"
      },
      "execution_count": null,
      "outputs": []
    },
    {
      "cell_type": "markdown",
      "source": [
        "\n",
        "# Random Forest"
      ],
      "metadata": {
        "id": "8JSuHtZR9wwc"
      }
    },
    {
      "cell_type": "code",
      "source": [
        "from sklearn.ensemble import RandomForestClassifier\n",
        "RandomForestClassifier().get_params().keys()"
      ],
      "metadata": {
        "id": "uXgpRk4aQbId"
      },
      "execution_count": null,
      "outputs": []
    },
    {
      "cell_type": "code",
      "source": [
        "rf = RandomForestClassifier()\n",
        "param_grid = {\n",
        "    'bootstrap': [True],\n",
        "    'max_depth': [80,90, 100, 110],\n",
        "    'max_features': [2, 3],\n",
        "    'min_samples_leaf': [3, 4, 5],\n",
        "    'min_samples_split': [8, 10, 12],\n",
        "    'n_estimators': [100, 200, 300]\n",
        "}\n",
        "grid_search = GridSearchCV(rf,param_grid,verbose=3,n_jobs=-1, cv=3)\n",
        "grid_search.fit(x_train_trans,y_train)\n",
        "pred_rf = grid_search.predict(x_test_trans)"
      ],
      "metadata": {
        "id": "qkD1zC6CRLLG"
      },
      "execution_count": null,
      "outputs": []
    },
    {
      "cell_type": "code",
      "source": [
        "print(grid_search.best_estimator_)\n",
        "print(confusion_matrix(y_test, pred_rf))\n",
        "print('\\n')\n",
        "print(classification_report(y_test, pred_rf))\n",
        "print(\"Accuracy : \",accuracy_score(y_test,pred_rf))\n",
        "plt.plot(y_test.tolist())\n",
        "plt.plot(pred_rf)\n",
        "plt.show()"
      ],
      "metadata": {
        "id": "3gHIW2alRvyb"
      },
      "execution_count": null,
      "outputs": []
    },
    {
      "cell_type": "markdown",
      "source": [
        "# Support Vector Machine"
      ],
      "metadata": {
        "id": "DQSf2uOv95TA"
      }
    },
    {
      "cell_type": "code",
      "source": [
        "from sklearn.svm import SVC\n",
        "SVC().get_params().keys()"
      ],
      "metadata": {
        "id": "yeHFZpKRZd6O"
      },
      "execution_count": null,
      "outputs": []
    },
    {
      "cell_type": "code",
      "source": [
        "svm = SVC()\n",
        "param_grid = {'C': [0.1, 1, 10, 100, 1000],\n",
        "              'gamma': [1, 0.1, 0.01, 0.001, 0.0001],\n",
        "              'kernel': ['rbf']}\n",
        "grid_search = GridSearchCV(svm,param_grid,verbose = 3,n_jobs=-1,cv=10)\n",
        "grid_search.fit(x_train_trans,y_train)\n",
        "pred_svm = grid_search.predict(x_test_trans)\n"
      ],
      "metadata": {
        "id": "QhBiSEPGZ190"
      },
      "execution_count": null,
      "outputs": []
    },
    {
      "cell_type": "code",
      "source": [
        "print(grid_search.best_estimator_)\n",
        "print(confusion_matrix(y_test, pred_svm))\n",
        "print('\\n')\n",
        "print(classification_report(y_test, pred_svm))\n",
        "print(\"Accuracy : \",accuracy_score(y_test,pred_svm))\n",
        "plt.plot(y_test.tolist())\n",
        "plt.plot(pred_svm)\n",
        "plt.show()"
      ],
      "metadata": {
        "id": "RFlWNYtwa05a"
      },
      "execution_count": null,
      "outputs": []
    },
    {
      "cell_type": "markdown",
      "source": [
        "# K Means Clustering"
      ],
      "metadata": {
        "id": "eXuvcIEx9_zD"
      }
    },
    {
      "cell_type": "code",
      "source": [
        "from sklearn.cluster import KMeans\n",
        "KMeans().get_params().keys()"
      ],
      "metadata": {
        "colab": {
          "base_uri": "https://localhost:8080/"
        },
        "id": "3VMua9GAa6cG",
        "outputId": "d8e73740-6c58-4718-e193-8d6cc1c2a893"
      },
      "execution_count": null,
      "outputs": [
        {
          "output_type": "execute_result",
          "data": {
            "text/plain": [
              "dict_keys(['algorithm', 'copy_x', 'init', 'max_iter', 'n_clusters', 'n_init', 'random_state', 'tol', 'verbose'])"
            ]
          },
          "metadata": {},
          "execution_count": 26
        }
      ]
    },
    {
      "cell_type": "code",
      "source": [
        "kmm = KMeans()\n",
        "kmm = KMeans(n_clusters=2,random_state=42)\n",
        "kmm.fit(x_test_trans)\n",
        "pred_kmm = kmm.labels_"
      ],
      "metadata": {
        "id": "TFcyTkgPbKxV"
      },
      "execution_count": null,
      "outputs": []
    },
    {
      "cell_type": "code",
      "source": [
        "print(confusion_matrix(y_test, pred_kmm))\n",
        "print('\\n')\n",
        "print(classification_report(y_test, pred_kmm))\n",
        "print(\"Accuracy : \",accuracy_score(y_test,pred_kmm))\n",
        "plt.plot(y_test.tolist())\n",
        "plt.plot(pred_kmm)\n",
        "plt.show()"
      ],
      "metadata": {
        "id": "op-lkhUffj4_"
      },
      "execution_count": null,
      "outputs": []
    },
    {
      "cell_type": "markdown",
      "source": [
        "# Artificial Neural Network (ANN)"
      ],
      "metadata": {
        "id": "csJP-sP0-Ivc"
      }
    },
    {
      "cell_type": "code",
      "source": [
        "import tensorflow as tf"
      ],
      "metadata": {
        "id": "zjfYGNVIhr2W"
      },
      "execution_count": null,
      "outputs": []
    },
    {
      "cell_type": "code",
      "source": [
        "ann = tf.keras.models.Sequential()\n",
        "ann.add(tf.keras.layers.Dense(units=8, activation='relu'))\n",
        "ann.add(tf.keras.layers.Dense(units=14, activation='relu'))\n",
        "ann.add(tf.keras.layers.Dense(units=1, activation='sigmoid'))\n",
        "ann.compile(optimizer = 'adam', loss = 'binary_crossentropy', metrics = ['accuracy'])"
      ],
      "metadata": {
        "id": "4y9QmggfjknA"
      },
      "execution_count": null,
      "outputs": []
    },
    {
      "cell_type": "code",
      "source": [
        "ann.fit(x=x_train,y=y_train,epochs=220,batch_size = 16,validation_data=(x_test_trans,y_test))\n",
        "predictions=ann.predict(x_test)\n",
        "\n",
        "final_predictions = []\n",
        "for x in predictions:\n",
        "  if x>0.5:\n",
        "    final_predictions.append([1])\n",
        "  else:\n",
        "    final_predictions.append([0])\n",
        "\n",
        "final_predictions = np.array(final_predictions)\n",
        "\n",
        "print(confusion_matrix(y_test, final_predictions))\n",
        "print('\\n')\n",
        "print(classification_report(y_test, final_predictions))\n",
        "print(\"Accuracy : \",accuracy_score(y_test,final_predictions))\n",
        "plt.plot(y_test.tolist())\n",
        "plt.plot(final_predictions)\n",
        "plt.show()"
      ],
      "metadata": {
        "id": "ILT3Ofn_lH5T"
      },
      "execution_count": null,
      "outputs": []
    },
    {
      "cell_type": "markdown",
      "source": [
        "Thus from the observations we can conclude Artificial Neural Network(ANN) and K Nearest Neighbours (KNN) has the highest accuracy for this Heart Dataset\n",
        "\n"
      ],
      "metadata": {
        "id": "sz13rocB_B-9"
      }
    }
  ]
}