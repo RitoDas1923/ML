{
  "nbformat": 4,
  "nbformat_minor": 0,
  "metadata": {
    "colab": {
      "name": "TimeSeriesAnalysis.ipynb",
      "provenance": [],
      "collapsed_sections": [],
      "toc_visible": true,
      "include_colab_link": true
    },
    "kernelspec": {
      "name": "python3",
      "display_name": "Python 3"
    },
    "language_info": {
      "name": "python"
    }
  },
  "cells": [
    {
      "cell_type": "markdown",
      "metadata": {
        "id": "view-in-github",
        "colab_type": "text"
      },
      "source": [
        "<a href=\"https://colab.research.google.com/github/RitoDas1923/ML/blob/main/TimeSeriesAnalysis.ipynb\" target=\"_parent\"><img src=\"https://colab.research.google.com/assets/colab-badge.svg\" alt=\"Open In Colab\"/></a>"
      ]
    },
    {
      "cell_type": "markdown",
      "source": [
        "# **Importing the Libraries and Dataset**\n",
        "\n",
        "\n"
      ],
      "metadata": {
        "id": "pcDIuVKm153r"
      }
    },
    {
      "cell_type": "markdown",
      "source": [
        "The required libraries are Scipy,numpy,pandas,statsmodel,sklearn and matplotlib"
      ],
      "metadata": {
        "id": "Vjaz4O3k4iov"
      }
    },
    {
      "cell_type": "code",
      "source": [
        "import scipy\n",
        "import numpy\n",
        "import matplotlib\n",
        "import pandas\n",
        "import statsmodels\n",
        "import sklearn\n",
        "%matplotlib inline"
      ],
      "metadata": {
        "id": "GoW1MEF82Wbg"
      },
      "execution_count": 3,
      "outputs": []
    },
    {
      "cell_type": "markdown",
      "source": [
        "The Dataset is imported form GitHub"
      ],
      "metadata": {
        "id": "q-y09H8441ML"
      }
    },
    {
      "cell_type": "code",
      "source": [
        "from pandas import read_csv\n",
        "time_series = read_csv(\"https://raw.githubusercontent.com/RitoDas1923/ML_Datasets/main/monthly_champagne_sales.csv\",header=0,  index_col=0, parse_dates=True, squeeze=True)"
      ],
      "metadata": {
        "id": "BCgh415W3Fhe"
      },
      "execution_count": 4,
      "outputs": []
    },
    {
      "cell_type": "markdown",
      "source": [
        "# **Problem Description**\n",
        "The problem is to predict the number of monthly sales of champagne for the Perrin Freres label (named for a region in France).\n",
        "\n",
        "The dataset provides the number of monthly sales of champagne from January 1964 to September 1972, or just under 10 years of data.\n",
        "\n",
        "The values are a count of millions of sales and there are 105 observations."
      ],
      "metadata": {
        "id": "rhdCcRwu5AFk"
      }
    },
    {
      "cell_type": "markdown",
      "source": [
        "# Validation Dataset\n",
        "The final year of data (September 1971 to September 1972) will be withhold  from analysis and model selection.\n",
        "\n",
        "This final year of data will be used to validate the final model."
      ],
      "metadata": {
        "id": "jT68CKhB5I-1"
      }
    },
    {
      "cell_type": "markdown",
      "source": [
        "Separating the Validation Dataset"
      ],
      "metadata": {
        "id": "hUL5-skv57JI"
      }
    },
    {
      "cell_type": "code",
      "source": [
        "split_point = len(time_series) - 12\n",
        "training_set, validation_set = time_series[0:split_point], time_series[split_point:]\n",
        "print('Dataset :  %d, Validation Set :  %d' % (len(training_set), len(validation_set)))\n",
        "training_set.to_csv('dataset.csv', header=False)\n",
        "validation_set.to_csv('validation.csv', header=False)"
      ],
      "metadata": {
        "colab": {
          "base_uri": "https://localhost:8080/"
        },
        "id": "AsmBPUmy549j",
        "outputId": "f0225356-d662-4fde-e0de-6b68858bada4"
      },
      "execution_count": 5,
      "outputs": [
        {
          "output_type": "stream",
          "name": "stdout",
          "text": [
            "Dataset :  93, Validation Set :  12\n"
          ]
        }
      ]
    },
    {
      "cell_type": "markdown",
      "source": [
        "# **Baseline Prediction :**\n",
        "Calculating Baseline Prediction and the Mean-Squared error corresponding to it.This can be done by estimating the sales of (i)th month as the sales of (i+1)th month and calculating the mean-squared error\n"
      ],
      "metadata": {
        "id": "id770iTA7l8Y"
      }
    },
    {
      "cell_type": "markdown",
      "source": [
        "Preparing the Data"
      ],
      "metadata": {
        "id": "DkthR-9Z8cz5"
      }
    },
    {
      "cell_type": "code",
      "source": [
        "from math import sqrt\n",
        "from sklearn.metrics import mean_squared_error\n",
        "X = time_series.values\n",
        "X = X.astype('float32')\n",
        "train_size = int(len(X) * 0.70)\n",
        "train, test = X[0:train_size], X[train_size:]"
      ],
      "metadata": {
        "id": "q11_m9vi8PVq"
      },
      "execution_count": 6,
      "outputs": []
    },
    {
      "cell_type": "markdown",
      "source": [
        "Prediction and Observation"
      ],
      "metadata": {
        "id": "vx9R0SAL8fe6"
      }
    },
    {
      "cell_type": "code",
      "source": [
        "history = [x for x in train]\n",
        "predictions = list()\n",
        "for i in range(len(test)):\n",
        "    yhat = history[-1]\n",
        "    predictions.append(yhat)\n",
        "\n",
        "    obs = test[i]\n",
        "    history.append(obs)\n",
        "    print('>Predicted Value : %.3f, Expected Value : %3.f' % (yhat, obs))"
      ],
      "metadata": {
        "colab": {
          "base_uri": "https://localhost:8080/"
        },
        "id": "l1SVBpzq8i5v",
        "outputId": "11ac9364-b2e5-480a-9003-fa28b2178d79"
      },
      "execution_count": 7,
      "outputs": [
        {
          "output_type": "stream",
          "name": "stdout",
          "text": [
            ">Predicted Value : 2639.000, Expected Value : 2899\n",
            ">Predicted Value : 2899.000, Expected Value : 3370\n",
            ">Predicted Value : 3370.000, Expected Value : 3740\n",
            ">Predicted Value : 3740.000, Expected Value : 2927\n",
            ">Predicted Value : 2927.000, Expected Value : 3986\n",
            ">Predicted Value : 3986.000, Expected Value : 4217\n",
            ">Predicted Value : 4217.000, Expected Value : 1738\n",
            ">Predicted Value : 1738.000, Expected Value : 5221\n",
            ">Predicted Value : 5221.000, Expected Value : 6424\n",
            ">Predicted Value : 6424.000, Expected Value : 9842\n",
            ">Predicted Value : 9842.000, Expected Value : 13076\n",
            ">Predicted Value : 13076.000, Expected Value : 3934\n",
            ">Predicted Value : 3934.000, Expected Value : 3162\n",
            ">Predicted Value : 3162.000, Expected Value : 4286\n",
            ">Predicted Value : 4286.000, Expected Value : 4676\n",
            ">Predicted Value : 4676.000, Expected Value : 5010\n",
            ">Predicted Value : 5010.000, Expected Value : 4874\n",
            ">Predicted Value : 4874.000, Expected Value : 4633\n",
            ">Predicted Value : 4633.000, Expected Value : 1659\n",
            ">Predicted Value : 1659.000, Expected Value : 5951\n",
            ">Predicted Value : 5951.000, Expected Value : 6981\n",
            ">Predicted Value : 6981.000, Expected Value : 9851\n",
            ">Predicted Value : 9851.000, Expected Value : 12670\n",
            ">Predicted Value : 12670.000, Expected Value : 4348\n",
            ">Predicted Value : 4348.000, Expected Value : 3564\n",
            ">Predicted Value : 3564.000, Expected Value : 4577\n",
            ">Predicted Value : 4577.000, Expected Value : 4788\n",
            ">Predicted Value : 4788.000, Expected Value : 4618\n",
            ">Predicted Value : 4618.000, Expected Value : 5312\n",
            ">Predicted Value : 5312.000, Expected Value : 4298\n",
            ">Predicted Value : 4298.000, Expected Value : 1413\n",
            ">Predicted Value : 1413.000, Expected Value : 5877\n"
          ]
        }
      ]
    },
    {
      "cell_type": "markdown",
      "source": [
        "Root Mean-Square Error "
      ],
      "metadata": {
        "id": "bb0NmGga9Koi"
      }
    },
    {
      "cell_type": "code",
      "source": [
        "mse = mean_squared_error(test, predictions)\n",
        "rmse = sqrt(mse)\n",
        "print('RMSE : %.3f' % rmse)"
      ],
      "metadata": {
        "colab": {
          "base_uri": "https://localhost:8080/"
        },
        "id": "54qLa9-q9UYn",
        "outputId": "cdb494be-1377-4b1b-b077-9a52b83fa3bc"
      },
      "execution_count": 8,
      "outputs": [
        {
          "output_type": "stream",
          "name": "stdout",
          "text": [
            "RMSE : 2932.278\n"
          ]
        }
      ]
    },
    {
      "cell_type": "markdown",
      "source": [
        "# **Data Analysis**\n",
        "Using summary statistics and plots of the data to quickly learn more about the structure of the prediction problem.\n",
        "\n",
        "The following Methods will be used :\n",
        "\n",
        "*   Summary Statistics\n",
        "*   Line Plot\n",
        "*   Seasonal Line Plots\n",
        "*   Density Plots\n",
        "*   Box & Whisker Plots\n"
      ],
      "metadata": {
        "id": "0QjXh5NQ90H2"
      }
    },
    {
      "cell_type": "markdown",
      "source": [
        "## Summary Statistics\n",
        "Using summary statistics we can get a quic loook at the limits of the values. It helps us better understand the data with which we are working."
      ],
      "metadata": {
        "id": "gJdOsGg6-iv-"
      }
    },
    {
      "cell_type": "code",
      "source": [
        "training_set.describe()"
      ],
      "metadata": {
        "colab": {
          "base_uri": "https://localhost:8080/"
        },
        "id": "u3J6_yFU-4DL",
        "outputId": "0f3ea045-9c21-4f40-c23e-584488ce25f7"
      },
      "execution_count": 9,
      "outputs": [
        {
          "output_type": "execute_result",
          "data": {
            "text/plain": [
              "count       93.000000\n",
              "mean      4641.118280\n",
              "std       2486.403841\n",
              "min       1573.000000\n",
              "25%       3036.000000\n",
              "50%       4016.000000\n",
              "75%       5048.000000\n",
              "max      13916.000000\n",
              "Name: Sales, dtype: float64"
            ]
          },
          "metadata": {},
          "execution_count": 9
        }
      ]
    },
    {
      "cell_type": "markdown",
      "source": [
        "## Line Plot\n",
        "Some observations which can be made from the plot are :\n",
        "\n",
        "*  There is an increasing trend of sales with time\n",
        "*  There is seasonality to the sales which appears to be growing over time , indicating a  multiplicative relation.\n",
        "*  There isn't any outliers.\n",
        "*  The seasonality indicates non-stationarity of the data"
      ],
      "metadata": {
        "id": "6PQL5o8T_CwX"
      }
    },
    {
      "cell_type": "code",
      "source": [
        "training_set.plot()\n",
        "matplotlib.pyplot.show()"
      ],
      "metadata": {
        "colab": {
          "base_uri": "https://localhost:8080/",
          "height": 279
        },
        "id": "9Fs18Q4H_GSY",
        "outputId": "30e1a142-6999-462e-ea1a-387649ecfe10"
      },
      "execution_count": 10,
      "outputs": [
        {
          "output_type": "display_data",
          "data": {
            "image/png": "[encoded data removed]",
            "text/plain": [
              "<Figure size 432x288 with 1 Axes>"
            ]
          },
          "metadata": {
            "needs_background": "light"
          }
        }
      ]
    },
    {
      "cell_type": "markdown",
      "source": [
        "## Seasonal Line Plots\n",
        "We can confirm the seasonality of data by plotting line plots by year.\n",
        "There appears to be a dip in the plot in every August and a jump from August to December each year. "
      ],
      "metadata": {
        "id": "337qjlDHAh0p"
      }
    },
    {
      "cell_type": "code",
      "source": [
        "from pandas import DataFrame\n",
        "from pandas import Grouper\n",
        "from matplotlib import pyplot as plt\n",
        "groups = training_set['1964':'1970'].groupby(Grouper(freq='A'))\n",
        "years = DataFrame()\n",
        "plt.figure(figsize = (10, 12))\n",
        "i = 1\n",
        "n_groups = len(groups)\n",
        "for name, group in groups:\n",
        "\tplt.subplot((n_groups*100) + 10 + i)\n",
        "\ti += 1\n",
        "\tplt.plot(group)\n",
        "plt.show()"
      ],
      "metadata": {
        "colab": {
          "base_uri": "https://localhost:8080/",
          "height": 700
        },
        "id": "SG2MaMAkBIpZ",
        "outputId": "547c90ea-502f-4fba-ce40-054a503511f4"
      },
      "execution_count": 11,
      "outputs": [
        {
          "output_type": "display_data",
          "data": {
            "image/png": "[encoded data removed]",
            "text/plain": [
              "<Figure size 720x864 with 7 Axes>"
            ]
          },
          "metadata": {
            "needs_background": "light"
          }
        }
      ]
    },
    {
      "cell_type": "markdown",
      "source": [
        "## Density Plot\n",
        "To get further insight into the data we can plot the density of the observations by using histogram and density plots."
      ],
      "metadata": {
        "id": "Mil4MY41B4HL"
      }
    },
    {
      "cell_type": "code",
      "source": [
        "plt.figure(1)\n",
        "plt.subplot(211)\n",
        "training_set.hist()\n",
        "plt.subplot(212)\n",
        "training_set.plot(kind='kde')\n",
        "plt.show()"
      ],
      "metadata": {
        "colab": {
          "base_uri": "https://localhost:8080/",
          "height": 265
        },
        "id": "9-NE2dA6CKUw",
        "outputId": "a17eb62e-9460-4efc-8f8e-23d7f05bc17c"
      },
      "execution_count": 12,
      "outputs": [
        {
          "output_type": "display_data",
          "data": {
            "image/png": "[encoded data removed]",
            "text/plain": [
              "<Figure size 432x288 with 2 Axes>"
            ]
          },
          "metadata": {
            "needs_background": "light"
          }
        }
      ]
    },
    {
      "cell_type": "markdown",
      "source": [
        "## Box and Whisker Plots\n",
        "By grouping the monthly data according to year we can get an idea about the spread of observations for every year and how it is changing\n",
        "\n",
        "Some inferences from reviewing the plots are :\n",
        "\n",
        "*   The median values for each year (green line) may show an increasing trend.\n",
        "*   The inter-quartile range  of the data (blue boxes)  appear to be stable.\n",
        "*   There are outliers each year (black hollow dots); these may be the tops or bottoms of the seasonal cycle.\n",
        "*   The last year 1970 breaks the trend from previous years ."
      ],
      "metadata": {
        "id": "B8RZPEqgCcA4"
      }
    },
    {
      "cell_type": "code",
      "source": [
        "years = DataFrame()\n",
        "for name, group in groups:\n",
        "\tyears[name.year] = group.values\n",
        "years.boxplot(figsize=(9, 7))\n",
        "plt.show()"
      ],
      "metadata": {
        "id": "dFCs_h1slb0J",
        "colab": {
          "base_uri": "https://localhost:8080/",
          "height": 428
        },
        "outputId": "378cc457-666c-4a84-dec1-12741eace4f3"
      },
      "execution_count": 13,
      "outputs": [
        {
          "output_type": "display_data",
          "data": {
            "image/png": "[encoded data removed]",
            "text/plain": [
              "<Figure size 648x504 with 1 Axes>"
            ]
          },
          "metadata": {
            "needs_background": "light"
          }
        }
      ]
    },
    {
      "cell_type": "markdown",
      "source": [
        "# **ARIMA Models**\n",
        "Developing Autoregressive Integrated Moving Average, or ARIMA, models for the problem.\n",
        "\n",
        "This can be divided into 3 steps : \n",
        "\n",
        "*   Manually Configured ARIMA\n",
        "*   Automatically configured ARIMA\n",
        "*   Reviewing Residual Errors\n",
        "\n"
      ],
      "metadata": {
        "id": "PeRPS24RFmQj"
      }
    },
    {
      "cell_type": "markdown",
      "source": [
        "# Manually Configured ARIMA\n",
        "The **ARIMA(p,d,q)** model requires three parameters and is traditionally configured manually.Analysis of the time series data assumes that we are working with a **stationary time series**.\n",
        "\n",
        "The time series is almost certainly non-stationary. We can make it stationary this by **first differencing the series and using a statistical test to confirm that the result is stationary**.\n",
        "\n",
        "The seasonality in the series is seemingly year-to-year. Seasonal data can be differenced by **subtracting the observation from the same time in the previous cycle**, in this case the same month in the previous year. This does mean that we will lose the first year of observations as there is no prior year to difference with.\n",
        "\n",
        "The code below creates a deseasonalized version of the series and saves it to file **stationary.csv.**"
      ],
      "metadata": {
        "id": "AfjAo-dkF_zx"
      }
    },
    {
      "cell_type": "markdown",
      "source": [
        "Creating the differenced series"
      ],
      "metadata": {
        "id": "I9pCiktCGZmU"
      }
    },
    {
      "cell_type": "code",
      "source": [
        "from pandas import read_csv\n",
        "from pandas import Series\n",
        "from statsmodels.tsa.stattools import adfuller\n",
        "\n",
        "\n",
        "\n",
        "def difference(dataset, interval=1):\n",
        "\tdiff = list()\n",
        "\tfor i in range(interval, len(dataset)):\n",
        "\t\tvalue = dataset[i] - dataset[i - interval]\n",
        "\t\tdiff.append(value)\n",
        "\treturn Series(diff)\n",
        " \n",
        "X = training_set.values\n",
        "X = X.astype('float32')\n",
        "\n",
        "months_in_year = 12\n",
        "stationary = difference(X, months_in_year)\n",
        "stationary.index = training_set.index[months_in_year:]\n"
      ],
      "metadata": {
        "colab": {
          "base_uri": "https://localhost:8080/"
        },
        "id": "bcR1YVmkGUgh",
        "outputId": "af27d546-0e87-4e0c-ac39-4f8369e70572"
      },
      "execution_count": 14,
      "outputs": [
        {
          "output_type": "stream",
          "name": "stderr",
          "text": [
            "/usr/local/lib/python3.7/dist-packages/statsmodels/tools/_testing.py:19: FutureWarning: pandas.util.testing is deprecated. Use the functions in the public API at pandas.testing instead.\n",
            "  import pandas.util.testing as tm\n"
          ]
        }
      ]
    },
    {
      "cell_type": "markdown",
      "source": [
        " Checking for Stationarity using ADF(Augmented Dickey-Fuller Test)"
      ],
      "metadata": {
        "id": "nK3oTik5Gyeb"
      }
    },
    {
      "cell_type": "code",
      "source": [
        "result = adfuller(stationary)\n",
        "print('ADF Statistic : %f' % result[0])\n",
        "print('p-value : %f' % result[1])\n",
        "print('Critical Values : ')\n",
        "for key, value in result[4].items():\n",
        "\tprint('\\t%s : %.3f' % (key, value))"
      ],
      "metadata": {
        "colab": {
          "base_uri": "https://localhost:8080/"
        },
        "id": "2vUYsj38HN9D",
        "outputId": "bcb21ae8-36b6-41c7-a17c-418ddd693a65"
      },
      "execution_count": 15,
      "outputs": [
        {
          "output_type": "stream",
          "name": "stdout",
          "text": [
            "ADF Statistic : -7.134898\n",
            "p-value : 0.000000\n",
            "Critical Values : \n",
            "\t1% : -3.515\n",
            "\t5% : -2.898\n",
            "\t10% : -2.586\n"
          ]
        }
      ]
    },
    {
      "cell_type": "markdown",
      "source": [
        "Since the p value is less than 0.5 and the ADF Statistics is less than the critical value and hence we can reject the null hypothesis and consider the series to be Stationary"
      ],
      "metadata": {
        "id": "mZstE9rtHXi-"
      }
    },
    {
      "cell_type": "markdown",
      "source": [
        "Saving and Plotting the stationary series"
      ],
      "metadata": {
        "id": "8FCD2CwzH3lR"
      }
    },
    {
      "cell_type": "code",
      "source": [
        "stationary.to_csv('stationary.csv', header=False)\n",
        "stationary.plot()\n",
        "plt.show()"
      ],
      "metadata": {
        "colab": {
          "base_uri": "https://localhost:8080/",
          "height": 279
        },
        "id": "4VsJXO0HH8s-",
        "outputId": "a625b702-cc42-43a0-df8c-031e92b4f474"
      },
      "execution_count": 16,
      "outputs": [
        {
          "output_type": "display_data",
          "data": {
            "image/png": "[encoded data removed]",
            "text/plain": [
              "<Figure size 432x288 with 1 Axes>"
            ]
          },
          "metadata": {
            "needs_background": "light"
          }
        }
      ]
    },
    {
      "cell_type": "markdown",
      "source": [
        "Next we need to select the **lag values** and the **Auto Regression(AR) [p] and Moving Average(MA) [q]  parameters** by plotting the **Autocorrelation Function (ACF) and Partial Autocorrelation Function (PACF) plots.**\n"
      ],
      "metadata": {
        "id": "b9qWJvESILrY"
      }
    },
    {
      "cell_type": "code",
      "source": [
        "from pandas import read_csv\n",
        "from statsmodels.graphics.tsaplots import plot_acf\n",
        "from statsmodels.graphics.tsaplots import plot_pacf\n",
        "from matplotlib import pyplot\n",
        "plt.figure(figsize=(8,8))\n",
        "plt.subplot(211)\n",
        "plot_acf(stationary, ax=plt.gca())\n",
        "plt.subplot(212)\n",
        "plot_pacf(stationary, ax=plt.gca())\n",
        "plt.show()"
      ],
      "metadata": {
        "colab": {
          "base_uri": "https://localhost:8080/",
          "height": 499
        },
        "id": "vwwW_YbAIrBc",
        "outputId": "0afcffd0-187a-43f1-9abe-218341ec16b7"
      },
      "execution_count": 17,
      "outputs": [
        {
          "output_type": "display_data",
          "data": {
            "image/png": "[encoded data removed]",
            "text/plain": [
              "<Figure size 576x576 with 2 Axes>"
            ]
          },
          "metadata": {
            "needs_background": "light"
          }
        }
      ]
    },
    {
      "cell_type": "markdown",
      "source": [
        "The observations from the plots are :\n",
        "\n",
        "*   The ACF shows a significant lag for 1 month\n",
        "*   The PACF shows a significant lag for 1 month, with perhaps some significant lag at 12 and 13 months\n",
        "*   Both the ACF and PACF show a drop-off at the same point, perhaps suggesting a mix of AR and MA.\n",
        "\n",
        "**A good starting point for the p and q values is also 1.**\n",
        "\n",
        "Though we can take ARIMA(1,0,1) as  the model but experimentation shows that this model of ARIMA does not converge and results in error. By adding one level of differencing to the stationary data we can make the model more stable. Hence model can be extended to **ARIMA(1,1,1)**.\n"
      ],
      "metadata": {
        "id": "THmzesfRI_gY"
      }
    },
    {
      "cell_type": "code",
      "source": [
        "from pandas import read_csv\n",
        "from sklearn.metrics import mean_squared_error\n",
        "from statsmodels.tsa.arima_model import ARIMA\n",
        "from math import sqrt\n",
        "\n",
        "\n",
        "# invert differenced value\n",
        "def inverse_difference(history, yhat, interval=1):\n",
        "\treturn yhat + history[-interval]\n",
        "\n",
        "# load data\n",
        "series = read_csv('dataset.csv', header=None, index_col=0, parse_dates=True, squeeze=True)\n",
        "# prepare data\n",
        "X = series.values\n",
        "X = X.astype('float32')\n",
        "train_size = int(len(X) * 0.81)\n",
        "train, test = X[0:train_size], X[train_size:]\n",
        "# walk-forward validation\n",
        "history = [x for x in train]\n",
        "predictions = list()\n",
        "for i in range(len(test)):\n",
        "\t# difference data\n",
        "\tmonths_in_year = 12\n",
        "\tdiff = difference(history, months_in_year)\n",
        "\t# predict\n",
        "\tmodel = ARIMA(diff, order=(1,1,1))\n",
        "\tmodel_fit = model.fit()\n",
        "\tyhat = model_fit.forecast()[0]\n",
        "\tyhat = inverse_difference(history, yhat, months_in_year)\n",
        "\tpredictions.append(yhat)\n",
        "\t# observation\n",
        "\tobs = test[i]\n",
        "\thistory.append(obs)\n",
        "\tprint('>Predicted : %.3f, Expected : %.3f' % (yhat, obs))\n",
        "# report performance\n",
        "rmse = sqrt(mean_squared_error(test, predictions))\n",
        "print('RMSE : %.3f' % rmse)"
      ],
      "metadata": {
        "colab": {
          "base_uri": "https://localhost:8080/"
        },
        "id": "d0TZQO2hLc3q",
        "outputId": "73edc196-ce93-4bf9-cf7d-4d86ecb40acf"
      },
      "execution_count": 26,
      "outputs": [
        {
          "output_type": "stream",
          "name": "stdout",
          "text": [
            ">Predicted : 4406.357, Expected : 3740.000\n",
            ">Predicted : 5050.125, Expected : 2927.000\n",
            ">Predicted : 4449.553, Expected : 3986.000\n",
            ">Predicted : 3371.198, Expected : 4217.000\n",
            ">Predicted : 1868.514, Expected : 1738.000\n",
            ">Predicted : 5172.361, Expected : 5221.000\n",
            ">Predicted : 6823.426, Expected : 6424.000\n",
            ">Predicted : 10676.610, Expected : 9842.000\n",
            ">Predicted : 13672.795, Expected : 13076.000\n",
            ">Predicted : 2357.242, Expected : 3934.000\n",
            ">Predicted : 2918.554, Expected : 3162.000\n",
            ">Predicted : 3297.886, Expected : 4286.000\n",
            ">Predicted : 3789.384, Expected : 4676.000\n",
            ">Predicted : 3039.903, Expected : 5010.000\n",
            ">Predicted : 4446.734, Expected : 4874.000\n",
            ">Predicted : 4495.677, Expected : 4633.000\n",
            ">Predicted : 1923.662, Expected : 1659.000\n",
            ">Predicted : 5289.555, Expected : 5951.000\n",
            "RMSE : 943.156\n"
          ]
        }
      ]
    },
    {
      "cell_type": "markdown",
      "source": [
        "By ARIMA model we get an RMSE of 943.156 which is much better than the persistent RMSE 2932.278"
      ],
      "metadata": {
        "id": "U9FUTYYKM1O6"
      }
    },
    {
      "cell_type": "markdown",
      "source": [
        "# Grid Search ARIMA Hyperparameters\n",
        "We will search values of p, d, and q for combinations (excluding those that fail to converge), and find the combination that results in the best performance on the test set. We will use a grid search to explore all combinations in a subset of integer values.\n",
        "\n",
        "We will search all combinations of the following parameters:\n",
        "\n",
        "*   p : [0, 1, 2, 4, 6, 8]\n",
        "*   d : 0 to 2\n",
        "*   q : 0 to 2"
      ],
      "metadata": {
        "id": "-qnJiuT_NKRZ"
      }
    },
    {
      "cell_type": "code",
      "source": [
        "\n",
        "import warnings\n",
        "def evaluate_arima_model(X, arima_order):\n",
        "\n",
        "\tX = X.astype('float32')\n",
        "\ttrain_size = int(len(X) * 0.50)\n",
        "\ttrain, test = X[0:train_size], X[train_size:]\n",
        "\thistory = [x for x in train]\n",
        "\tpredictions = list()\n",
        "\tfor t in range(len(test)):\n",
        "\t\tmonths_in_year = 12\n",
        "\t\tdiff = difference(history, months_in_year)\n",
        "\t\tmodel = ARIMA(diff, order=arima_order)\n",
        "\t\tmodel_fit = model.fit()\n",
        "\t\tyhat = model_fit.forecast()[0]\n",
        "\t\tyhat = inverse_difference(history, yhat, months_in_year)\n",
        "\t\tpredictions.append(yhat)\n",
        "\t\thistory.append(test[t])\n",
        "\trmse = sqrt(mean_squared_error(test, predictions))\n",
        "\treturn rmse\n",
        "\n",
        "\n",
        "def evaluate_models(dataset, p_values, d_values, q_values):\n",
        "\tdataset = dataset.astype('float32')\n",
        "\tbest_score, best_cfg = float(\"inf\"), None\n",
        "\tfor p in p_values:\n",
        "\t\tfor d in d_values:\n",
        "\t\t\tfor q in q_values:\n",
        "\t\t\t\torder = (p,d,q)\n",
        "\t\t\t\ttry:\n",
        "\t\t\t\t\trmse = evaluate_arima_model(dataset, order)\n",
        "\t\t\t\t\tif rmse < best_score:\n",
        "\t\t\t\t\t\tbest_score, best_cfg = rmse, order\n",
        "\t\t\t\t\tprint('ARIMA%s RMSE : %.3f' % (order,rmse))\n",
        "\t\t\t\texcept:\n",
        "\t\t\t\t\tcontinue\n",
        "\tprint('Best ARIMA%s RMSE : %.3f' % (best_cfg, best_score))\n",
        "\n",
        "\n",
        "series = read_csv('dataset.csv', header=None, index_col=0, parse_dates=True, squeeze=True)\n",
        "\n",
        "p_values =  [0, 1, 2, 4, 6, 8]\n",
        "d_values = range(0, 3)\n",
        "q_values = range(0, 3)\n",
        "warnings.filterwarnings(\"ignore\")\n",
        "evaluate_models(series.values, p_values, d_values, q_values)"
      ],
      "metadata": {
        "colab": {
          "base_uri": "https://localhost:8080/"
        },
        "id": "zAXqmWeCNkB_",
        "outputId": "750b27cb-56b3-423d-e55c-3a996f825e59"
      },
      "execution_count": 27,
      "outputs": [
        {
          "output_type": "stream",
          "name": "stdout",
          "text": [
            "ARIMA(0, 0, 0) RMSE : 947.677\n",
            "ARIMA(0, 0, 1) RMSE : 948.736\n",
            "ARIMA(0, 0, 2) RMSE : 973.850\n",
            "ARIMA(0, 1, 0) RMSE : 1157.460\n",
            "ARIMA(0, 1, 1) RMSE : 979.097\n",
            "ARIMA(0, 2, 0) RMSE : 1951.373\n",
            "ARIMA(0, 2, 1) RMSE : 1183.822\n",
            "ARIMA(1, 0, 0) RMSE : 945.305\n",
            "ARIMA(1, 1, 0) RMSE : 1080.588\n",
            "ARIMA(1, 1, 1) RMSE : 966.176\n",
            "ARIMA(1, 2, 0) RMSE : 1572.459\n",
            "ARIMA(2, 0, 0) RMSE : 963.295\n",
            "ARIMA(2, 0, 1) RMSE : 1013.215\n",
            "ARIMA(2, 1, 0) RMSE : 1040.239\n",
            "ARIMA(2, 1, 1) RMSE : 981.373\n",
            "ARIMA(2, 2, 0) RMSE : 1360.312\n",
            "ARIMA(2, 2, 1) RMSE : 1070.089\n",
            "ARIMA(4, 0, 0) RMSE : 1004.121\n",
            "ARIMA(4, 1, 0) RMSE : 1056.074\n",
            "ARIMA(4, 2, 0) RMSE : 1240.092\n",
            "ARIMA(4, 2, 1) RMSE : 1118.307\n",
            "ARIMA(6, 0, 0) RMSE : 1030.144\n",
            "ARIMA(6, 0, 1) RMSE : 1095.710\n",
            "ARIMA(6, 1, 0) RMSE : 1028.031\n",
            "ARIMA(8, 0, 0) RMSE : 1035.772\n",
            "Best ARIMA(1, 0, 0) RMSE : 945.305\n"
          ]
        }
      ]
    },
    {
      "cell_type": "markdown",
      "source": [
        "Hence we see the ARIMA(1,0,0) is the Best Model"
      ],
      "metadata": {
        "id": "rQXp-0b-PVn_"
      }
    },
    {
      "cell_type": "markdown",
      "source": [
        "# Review Residual Errors\n",
        "\n",
        "Ideally, the distribution of residual errors should be a Gaussian with a zero mean.\n",
        "\n",
        "We can calculate residual errors by using summary statistics and plot"
      ],
      "metadata": {
        "id": "INCXf_yPQDTr"
      }
    },
    {
      "cell_type": "markdown",
      "source": [
        "Loading the datset and splliting into test and train set"
      ],
      "metadata": {
        "id": "XTpvKKRbQkfd"
      }
    },
    {
      "cell_type": "code",
      "source": [
        "def difference(dataset, interval=1):\n",
        "\tdiff = list()\n",
        "\tfor i in range(interval, len(dataset)):\n",
        "\t\tvalue = dataset[i] - dataset[i - interval]\n",
        "\t\tdiff.append(value)\n",
        "\treturn diff\n",
        "\n",
        "def inverse_difference(history, yhat, interval=1):\n",
        "\treturn yhat + history[-interval]\n",
        "\n",
        "\n",
        "X = series.values\n",
        "X = X.astype('float32')\n",
        "train_size = int(len(X) * 0.80)\n",
        "train, test = X[0:train_size], X[train_size:]\n"
      ],
      "metadata": {
        "id": "gasEfEKkQQYA"
      },
      "execution_count": 29,
      "outputs": []
    },
    {
      "cell_type": "markdown",
      "source": [
        "Predicting and Calculating the Errors"
      ],
      "metadata": {
        "id": "tFIG1dhmQ3Jd"
      }
    },
    {
      "cell_type": "code",
      "source": [
        "history = [x for x in train]\n",
        "predictions = list()\n",
        "for i in range(len(test)):\n",
        "\t# difference data\n",
        "\tmonths_in_year = 12\n",
        "\tdiff = difference(history, months_in_year)\n",
        "\t# predict\n",
        "\tmodel = ARIMA(diff, order=(1,0,0))\n",
        "\tmodel_fit = model.fit()\n",
        "\tyhat = model_fit.forecast()[0]\n",
        "\tyhat = inverse_difference(history, yhat, months_in_year)\n",
        "\tpredictions.append(yhat)\n",
        "\t# observation\n",
        "\tobs = test[i]\n",
        "\thistory.append(obs)# errors\n",
        "residuals = [test[i]-predictions[i] for i in range(len(test))]\n",
        "residuals = DataFrame(residuals)\n",
        "print(residuals.describe())\n",
        "# plot\n",
        "pyplot.figure()\n",
        "pyplot.subplot(211)\n",
        "residuals.hist(ax=pyplot.gca())\n",
        "pyplot.subplot(212)\n",
        "residuals.plot(kind='kde', ax=pyplot.gca())\n",
        "pyplot.show()"
      ],
      "metadata": {
        "colab": {
          "base_uri": "https://localhost:8080/",
          "height": 437
        },
        "id": "FIRvU70TQ_qI",
        "outputId": "76da2a91-cd57-4435-db3a-2770a8910fcb"
      },
      "execution_count": 30,
      "outputs": [
        {
          "output_type": "stream",
          "name": "stdout",
          "text": [
            "                 0\n",
            "count    19.000000\n",
            "mean   -209.132752\n",
            "std     969.490056\n",
            "min   -2319.579513\n",
            "25%    -763.911832\n",
            "50%    -238.533918\n",
            "75%     523.860810\n",
            "max    1675.738934\n"
          ]
        },
        {
          "output_type": "display_data",
          "data": {
            "image/png": "[encoded data removed]",
            "text/plain": [
              "<Figure size 432x288 with 2 Axes>"
            ]
          },
          "metadata": {
            "needs_background": "light"
          }
        }
      ]
    },
    {
      "cell_type": "markdown",
      "source": [
        "We can add the value of mean residual error to each observations to make bias-correct predictions"
      ],
      "metadata": {
        "id": "2A1apORUUvbY"
      }
    },
    {
      "cell_type": "code",
      "source": [
        "# prepare data\n",
        "X = series.values\n",
        "X = X.astype('float32')\n",
        "train_size = int(len(X) * 0.80)\n",
        "train, test = X[0:train_size], X[train_size:]\n",
        "# walk-forward validation\n",
        "history = [x for x in train]\n",
        "predictions = list()\n",
        "bias = -209.132752\n",
        "for i in range(len(test)):\n",
        "\t# difference data\n",
        "\tmonths_in_year = 12\n",
        "\tdiff = difference(history, months_in_year)\n",
        "\t# predict\n",
        "\tmodel = ARIMA(diff, order=(1,0,0))\n",
        "\tmodel_fit = model.fit()\n",
        "\tyhat = model_fit.forecast()[0]\n",
        "\tyhat = bias + inverse_difference(history, yhat, months_in_year)\n",
        "\tpredictions.append(yhat)\n",
        "\t# observation\n",
        "\tobs = test[i]\n",
        "\thistory.append(obs)\n",
        "# report performance\n",
        "rmse = sqrt(mean_squared_error(test, predictions))\n",
        "print('RMSE : %.3f' % rmse)\n",
        "# errors\n",
        "residuals = [test[i]-predictions[i] for i in range(len(test))]\n",
        "residuals = DataFrame(residuals)\n",
        "print(residuals.describe())\n",
        "# plot\n",
        "pyplot.figure()\n",
        "pyplot.subplot(211)\n",
        "residuals.hist(ax=pyplot.gca())\n",
        "pyplot.subplot(212)\n",
        "residuals.plot(kind='kde', ax=pyplot.gca())\n",
        "pyplot.show()"
      ],
      "metadata": {
        "colab": {
          "base_uri": "https://localhost:8080/",
          "height": 454
        },
        "id": "CgI6PH_-VFFj",
        "outputId": "ad8e6c72-fb27-402a-b87c-c72ef66506c7"
      },
      "execution_count": 31,
      "outputs": [
        {
          "output_type": "stream",
          "name": "stdout",
          "text": [
            "RMSE : 943.632\n",
            "                  0\n",
            "count  1.900000e+01\n",
            "mean  -3.341030e-07\n",
            "std    9.694901e+02\n",
            "min   -2.110447e+03\n",
            "25%   -5.547791e+02\n",
            "50%   -2.940117e+01\n",
            "75%    7.329936e+02\n",
            "max    1.884872e+03\n"
          ]
        },
        {
          "output_type": "display_data",
          "data": {
            "image/png": "[encoded data removed]",
            "text/plain": [
              "<Figure size 432x288 with 2 Axes>"
            ]
          },
          "metadata": {
            "needs_background": "light"
          }
        }
      ]
    },
    {
      "cell_type": "markdown",
      "source": [
        "Making bias-correct predictions increases the accuracy slightly"
      ],
      "metadata": {
        "id": "juSkPB4gVe4M"
      }
    },
    {
      "cell_type": "markdown",
      "source": [
        "# Finalize Model \n",
        "We Fit the ARIMA(1,0,0) model on the entire transformed dataset and save the fit object and bias to a local file which can be used later"
      ],
      "metadata": {
        "id": "nYHWvlsSVnhj"
      }
    },
    {
      "cell_type": "code",
      "source": [
        "X = series.values\n",
        "X = X.astype('float32')\n",
        "# difference data\n",
        "months_in_year = 12\n",
        "diff = difference(X, months_in_year)\n",
        "# fit model\n",
        "model = ARIMA(diff, order=(1,0,0))\n",
        "model_fit = model.fit()\n",
        "# bias constant, could be calculated from in-sample mean residual\n",
        "bias = -209.132752\n",
        "# save model\n",
        "model_fit.save('model.pkl')\n",
        "numpy.save('model_bias.npy', [bias])"
      ],
      "metadata": {
        "id": "cZp5drLkWYWE"
      },
      "execution_count": 33,
      "outputs": []
    },
    {
      "cell_type": "markdown",
      "source": [
        "Running the example creates two local files:\n",
        "\n",
        "*   *model.pkl* : This is the ARIMA Result object from the call to ARIMA.fit(). This includes the coefficients and all other internal data returned when fitting the model.\n",
        "*  *model_bias.npy* : This is the bias value stored as a one-row, one-column NumPy array.\n"
      ],
      "metadata": {
        "id": "s7jyEmDBamxc"
      }
    },
    {
      "cell_type": "markdown",
      "source": [
        "# Validate Model \n",
        "We test our ARIMA model on the validation set of the last 12 months of the dataset"
      ],
      "metadata": {
        "id": "pxWan5nka0fY"
      }
    },
    {
      "cell_type": "code",
      "source": [
        "from statsmodels.tsa.arima_model import ARIMAResults\n",
        "X = training_set.values.astype('float32')\n",
        "history = [x for x in X]\n",
        "months_in_year = 12\n",
        "validation = read_csv('validation.csv', header=None, index_col=0, parse_dates=True, squeeze=True)\n",
        "y = validation.values.astype('float32')\n",
        "# load model\n",
        "model_fit = ARIMAResults.load('model.pkl')\n",
        "bias = numpy.load('model_bias.npy')\n",
        "# make first prediction\n",
        "predictions = list()\n",
        "yhat = float(model_fit.forecast()[0])\n",
        "yhat = bias + inverse_difference(history, yhat, months_in_year)\n",
        "predictions.append(yhat)\n",
        "history.append(y[0])\n",
        "print('>Predicted=%.3f, Expected=%.3f' % (yhat, y[0]))\n",
        "# rolling forecasts\n",
        "for i in range(1, len(y)):\n",
        "\t# difference data\n",
        "\tmonths_in_year = 12\n",
        "\tdiff = difference(history, months_in_year)\n",
        "\t# predict\n",
        "\tmodel = ARIMA(diff, order=(1,0,0))\n",
        "\tmodel_fit = model.fit()\n",
        "\tyhat = model_fit.forecast()[0]\n",
        "\tyhat = bias + inverse_difference(history, yhat, months_in_year)\n",
        "\tpredictions.append(yhat)\n",
        "\t# observation\n",
        "\tobs = y[i]\n",
        "\thistory.append(obs)\n",
        "\tprint('>Predicted=%.3f, Expected=%.3f' % (yhat, obs))\n",
        "# report performance\n",
        "rmse = sqrt(mean_squared_error(y, predictions))\n",
        "print('RMSE: %.3f' % rmse)\n",
        "pyplot.plot(y)\n",
        "pyplot.plot(predictions, color='red')\n",
        "pyplot.show()"
      ],
      "metadata": {
        "colab": {
          "base_uri": "https://localhost:8080/",
          "height": 490
        },
        "id": "amQvdUEparkA",
        "outputId": "f5476acb-5296-4634-fab5-de8fea7d432b"
      },
      "execution_count": 34,
      "outputs": [
        {
          "output_type": "stream",
          "name": "stdout",
          "text": [
            ">Predicted=6619.545, Expected=6981.000\n",
            ">Predicted=10003.193, Expected=9851.000\n",
            ">Predicted=13117.255, Expected=12670.000\n",
            ">Predicted=3877.170, Expected=4348.000\n",
            ">Predicted=3283.724, Expected=3564.000\n",
            ">Predicted=4405.997, Expected=4577.000\n",
            ">Predicted=4772.207, Expected=4788.000\n",
            ">Predicted=5066.192, Expected=4618.000\n",
            ">Predicted=4814.648, Expected=5312.000\n",
            ">Predicted=4753.655, Expected=4298.000\n",
            ">Predicted=1611.175, Expected=1413.000\n",
            ">Predicted=5914.632, Expected=5877.000\n",
            "RMSE: 339.131\n"
          ]
        },
        {
          "output_type": "display_data",
          "data": {
            "image/png": "[encoded data removed]",
            "text/plain": [
              "<Figure size 432x288 with 1 Axes>"
            ]
          },
          "metadata": {
            "needs_background": "light"
          }
        }
      ]
    },
    {
      "cell_type": "markdown",
      "source": [
        "Thus the Final RMSE is 339.131 which is pretty accurate.\n",
        "This model can be hence used to predict sales for any future year."
      ],
      "metadata": {
        "id": "EWG-KdDtbW-v"
      }
    }
  ]
}