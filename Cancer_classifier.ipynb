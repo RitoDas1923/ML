{
  "cells": [
    {
      "cell_type": "markdown",
      "metadata": {
        "id": "view-in-github",
        "colab_type": "text"
      },
      "source": [
        "<a href=\"https://colab.research.google.com/github/RitoDas1923/ML/blob/main/Cancer_classifier.ipynb\" target=\"_parent\"><img src=\"https://colab.research.google.com/assets/colab-badge.svg\" alt=\"Open In Colab\"/></a>"
      ]
    },
    {
      "cell_type": "code",
      "execution_count": null,
      "metadata": {
        "id": "G5o0QM0w0QZj"
      },
      "outputs": [],
      "source": [
        "import numpy as np\n",
        "import pandas as pd\n",
        "import matplotlib.pyplot as plt\n",
        "import seaborn as sns\n",
        "%matplotlib inline"
      ]
    },
    {
      "cell_type": "code",
      "execution_count": null,
      "metadata": {
        "id": "L3q2m9TI0QZl"
      },
      "outputs": [],
      "source": [
        "df = pd.read_csv('https://raw.githubusercontent.com/RitoDas1923/ML_Datasets/main/cancer_classification.csv')"
      ]
    },
    {
      "cell_type": "markdown",
      "metadata": {
        "id": "FnapGizN0QZm"
      },
      "source": [
        "# EDA and Feature Engineering"
      ]
    },
    {
      "cell_type": "code",
      "source": [
        "df"
      ],
      "metadata": {
        "id": "JUKYpn-wzWsE"
      },
      "execution_count": null,
      "outputs": []
    },
    {
      "cell_type": "code",
      "execution_count": null,
      "metadata": {
        "id": "b8aMcSPn0QZo"
      },
      "outputs": [],
      "source": [
        "df.info()"
      ]
    },
    {
      "cell_type": "code",
      "execution_count": null,
      "metadata": {
        "id": "Gfb0TVPK0QZq"
      },
      "outputs": [],
      "source": [
        "df.describe()"
      ]
    },
    {
      "cell_type": "code",
      "execution_count": null,
      "metadata": {
        "id": "WJPd04xT0QZq"
      },
      "outputs": [],
      "source": [
        "df.corr()['benign_0__mal_1'].sort_values(ascending=False)"
      ]
    },
    {
      "cell_type": "code",
      "execution_count": null,
      "metadata": {
        "id": "_TMRuc_r0QZr"
      },
      "outputs": [],
      "source": [
        "df.corr()['benign_0__mal_1'][:-1].sort_values().plot(kind='bar')"
      ]
    },
    {
      "cell_type": "code",
      "execution_count": null,
      "metadata": {
        "id": "ohd7UOpI0QZs"
      },
      "outputs": [],
      "source": [
        "sns.countplot(x=df['benign_0__mal_1'])"
      ]
    },
    {
      "cell_type": "markdown",
      "metadata": {
        "id": "0aYebRxi0QZt"
      },
      "source": [
        "# Train Test split"
      ]
    },
    {
      "cell_type": "code",
      "execution_count": null,
      "metadata": {
        "id": "MoVYiR-U0QZu"
      },
      "outputs": [],
      "source": [
        "x = df.drop('benign_0__mal_1', axis=1)"
      ]
    },
    {
      "cell_type": "code",
      "execution_count": null,
      "metadata": {
        "id": "FRgbvLPn0QZv"
      },
      "outputs": [],
      "source": [
        "y = df['benign_0__mal_1']"
      ]
    },
    {
      "cell_type": "code",
      "execution_count": null,
      "metadata": {
        "id": "B_EwAaLn0QZw"
      },
      "outputs": [],
      "source": [
        "from sklearn.model_selection import train_test_split"
      ]
    },
    {
      "cell_type": "code",
      "execution_count": null,
      "metadata": {
        "id": "D9NlGucd0QZw"
      },
      "outputs": [],
      "source": [
        "x_train, x_test, y_train, y_test = train_test_split(x, y, test_size = 0.3, random_state=101)"
      ]
    },
    {
      "cell_type": "markdown",
      "source": [
        ""
      ],
      "metadata": {
        "id": "uC-2TixaxPBA"
      }
    },
    {
      "cell_type": "markdown",
      "metadata": {
        "id": "ax9xGv4g0QZx"
      },
      "source": [
        "# Logistic Regression"
      ]
    },
    {
      "cell_type": "code",
      "execution_count": null,
      "metadata": {
        "id": "-23dP2YS0QZx"
      },
      "outputs": [],
      "source": [
        "from sklearn.linear_model import LogisticRegression"
      ]
    },
    {
      "cell_type": "code",
      "execution_count": null,
      "metadata": {
        "id": "_WBr6w1C0QZy"
      },
      "outputs": [],
      "source": [
        "lg = LogisticRegression()"
      ]
    },
    {
      "cell_type": "code",
      "execution_count": null,
      "metadata": {
        "id": "7SLSY3eZ0QZy"
      },
      "outputs": [],
      "source": [
        "lg.fit(x_train, y_train)"
      ]
    },
    {
      "cell_type": "code",
      "execution_count": null,
      "metadata": {
        "id": "OOm_Bdr50QZy"
      },
      "outputs": [],
      "source": [
        "pred_lg = lg.predict(x_test)"
      ]
    },
    {
      "cell_type": "code",
      "source": [
        "df2 = pd.DataFrame(x_test.iloc[0])\n",
        "#lg.predict())\n",
        "#x_test.iloc[0]\n",
        "#np.array(x_test.iloc[2])"
      ],
      "metadata": {
        "id": "g4RrVDvBZo3M"
      },
      "execution_count": null,
      "outputs": []
    },
    {
      "cell_type": "code",
      "source": [
        "np.array(pd.DataFrame(x_test.iloc[4])).reshape(1,30)"
      ],
      "metadata": {
        "id": "KC4tJvGPd3am"
      },
      "execution_count": null,
      "outputs": []
    },
    {
      "cell_type": "code",
      "source": [
        "lg.predict(np.array(pd.DataFrame(x_test.iloc[89])).reshape(1,30))"
      ],
      "metadata": {
        "id": "gV7uQHuAcHmc"
      },
      "execution_count": null,
      "outputs": []
    },
    {
      "cell_type": "code",
      "source": [
        "y_test.iloc[89]"
      ],
      "metadata": {
        "id": "_ri6xRdPeMOA"
      },
      "execution_count": null,
      "outputs": []
    },
    {
      "cell_type": "code",
      "source": [
        "x_te\n",
        "#lg.predict(df2)"
      ],
      "metadata": {
        "id": "X37qVIZYcLk0"
      },
      "execution_count": null,
      "outputs": []
    },
    {
      "cell_type": "code",
      "execution_count": null,
      "metadata": {
        "id": "tHbKEMCw0QZz"
      },
      "outputs": [],
      "source": [
        "from sklearn.metrics import confusion_matrix, classification_report"
      ]
    },
    {
      "cell_type": "code",
      "execution_count": null,
      "metadata": {
        "id": "qtv-cjQr0QZz"
      },
      "outputs": [],
      "source": [
        "from sklearn.metrics import accuracy_score\n",
        "print(confusion_matrix(y_test, pred_lg))\n",
        "print('\\n')\n",
        "print(classification_report(y_test, pred_lg))\n",
        "print(\"Accuracy : \"+str(accuracy_score(y_test,pred_lg)))"
      ]
    },
    {
      "cell_type": "markdown",
      "metadata": {
        "id": "fSVZrhW_0QZ0"
      },
      "source": [
        "# KNN"
      ]
    },
    {
      "cell_type": "code",
      "execution_count": null,
      "metadata": {
        "id": "zRLRfSvO0QZ0"
      },
      "outputs": [],
      "source": [
        "from sklearn.neighbors import KNeighborsClassifier"
      ]
    },
    {
      "cell_type": "code",
      "execution_count": null,
      "metadata": {
        "id": "zWXnMIxB0QZ0"
      },
      "outputs": [],
      "source": [
        "knn = KNeighborsClassifier(n_neighbors=2)"
      ]
    },
    {
      "cell_type": "code",
      "execution_count": null,
      "metadata": {
        "id": "QP5RRO8_0QZ1"
      },
      "outputs": [],
      "source": [
        "knn.fit(x_train, y_train)"
      ]
    },
    {
      "cell_type": "code",
      "execution_count": null,
      "metadata": {
        "id": "a0lInbRs0QZ1"
      },
      "outputs": [],
      "source": [
        "pred_knn = knn.predict(x_test)"
      ]
    },
    {
      "cell_type": "code",
      "execution_count": null,
      "metadata": {
        "id": "C_swYAdC0QZ1"
      },
      "outputs": [],
      "source": [
        "print(confusion_matrix(y_test, pred_knn))\n",
        "print('\\n')\n",
        "print(classification_report(y_test, pred_knn))\n",
        "print(\"Accuracy : \"+str(accuracy_score(y_test,pred_knn)))"
      ]
    },
    {
      "cell_type": "markdown",
      "metadata": {
        "id": "MsmgqWOe0QZ2"
      },
      "source": [
        "Choosing the best k value"
      ]
    },
    {
      "cell_type": "code",
      "execution_count": null,
      "metadata": {
        "id": "9TBnw1sm0QZ2"
      },
      "outputs": [],
      "source": [
        "acc_scores = []\n",
        "for i in range(1,399):\n",
        "  knn = KNeighborsClassifier(n_neighbors=i)\n",
        "  knn.fit(x_train,y_train)\n",
        "  pred_knn = knn.predict(x_test)\n",
        "  acc_scores.append(accuracy_score(y_test,pred_knn))"
      ]
    },
    {
      "cell_type": "code",
      "execution_count": null,
      "metadata": {
        "id": "KIFtPtEz4fdU"
      },
      "outputs": [],
      "source": [
        "plt.figure(figsize=(10,6))\n",
        "plt.plot(range(1,399),acc_scores,color='blue', linestyle='dashed', marker='o',\n",
        "         markerfacecolor='red', markersize=10)\n",
        "plt.title('Accuracy vs. K Value')\n",
        "plt.xlabel('K')\n",
        "plt.ylabel('Accuracy')"
      ]
    },
    {
      "cell_type": "code",
      "execution_count": null,
      "metadata": {
        "id": "ZrFkpArP0QZ3"
      },
      "outputs": [],
      "source": [
        "acc_scores.index(max(acc_scores))+1"
      ]
    },
    {
      "cell_type": "markdown",
      "metadata": {
        "id": "-kzR5j6Y0QZ3"
      },
      "source": [
        "Hence we get the best value k=1"
      ]
    },
    {
      "cell_type": "code",
      "execution_count": null,
      "metadata": {
        "id": "7rrmI7_60QZ3"
      },
      "outputs": [],
      "source": [
        "#reconstructing our model with k=1\n",
        "knn  = KNeighborsClassifier(n_neighbors=1)\n",
        "knn.fit(x_train, y_train)\n",
        "pred_knn = knn.predict(x_test)"
      ]
    },
    {
      "cell_type": "code",
      "execution_count": null,
      "metadata": {
        "id": "X69UiK220QZ4"
      },
      "outputs": [],
      "source": [
        "print(confusion_matrix(y_test, pred_knn))\n",
        "print('\\n')\n",
        "print(classification_report(y_test, pred_knn))"
      ]
    },
    {
      "cell_type": "markdown",
      "metadata": {
        "id": "1aHLGlD00QZ4"
      },
      "source": [
        "# Decision Trees"
      ]
    },
    {
      "cell_type": "code",
      "execution_count": null,
      "metadata": {
        "id": "l1wZOl740QZ4"
      },
      "outputs": [],
      "source": [
        "from sklearn.tree import DecisionTreeClassifier"
      ]
    },
    {
      "cell_type": "code",
      "execution_count": null,
      "metadata": {
        "id": "iT7Ykcij0QZ4"
      },
      "outputs": [],
      "source": [
        "dtrees = DecisionTreeClassifier()"
      ]
    },
    {
      "cell_type": "code",
      "execution_count": null,
      "metadata": {
        "id": "ADBKwLjm0QZ5"
      },
      "outputs": [],
      "source": [
        "dtrees.fit(x_train, y_train)"
      ]
    },
    {
      "cell_type": "code",
      "execution_count": null,
      "metadata": {
        "id": "Gh2q__Kj0QZ5"
      },
      "outputs": [],
      "source": [
        "pred_dt = dtrees.predict(x_test)"
      ]
    },
    {
      "cell_type": "code",
      "execution_count": null,
      "metadata": {
        "id": "8FshoUMI0QZ5"
      },
      "outputs": [],
      "source": [
        "print(confusion_matrix(y_test, pred_dt))\n",
        "print('\\n')\n",
        "print(classification_report(y_test, pred_dt))"
      ]
    },
    {
      "cell_type": "markdown",
      "metadata": {
        "id": "Ix5fxSMH0QZ5"
      },
      "source": [
        "# Random Forests"
      ]
    },
    {
      "cell_type": "code",
      "execution_count": null,
      "metadata": {
        "id": "QLASQ93L0QZ6"
      },
      "outputs": [],
      "source": [
        "from sklearn.ensemble import RandomForestClassifier"
      ]
    },
    {
      "cell_type": "code",
      "execution_count": null,
      "metadata": {
        "id": "F0U4K1eZ0QZ6"
      },
      "outputs": [],
      "source": [
        "rf = RandomForestClassifier(n_estimators=400)"
      ]
    },
    {
      "cell_type": "code",
      "execution_count": null,
      "metadata": {
        "id": "xCckNvTk0QZ6"
      },
      "outputs": [],
      "source": [
        "rf.fit(x_train, y_train)"
      ]
    },
    {
      "cell_type": "code",
      "execution_count": null,
      "metadata": {
        "id": "MaYhOA5c0QZ6"
      },
      "outputs": [],
      "source": [
        "pred_rf = rf.predict(x_test)"
      ]
    },
    {
      "cell_type": "code",
      "execution_count": null,
      "metadata": {
        "id": "YBg1HwJr0QZ7"
      },
      "outputs": [],
      "source": [
        "print(confusion_matrix(y_test, pred_rf))\n",
        "print('\\n')\n",
        "print(classification_report(y_test, pred_rf))"
      ]
    },
    {
      "cell_type": "markdown",
      "metadata": {
        "id": "v1fO7RoF0QZ7"
      },
      "source": [
        "# SVM"
      ]
    },
    {
      "cell_type": "code",
      "execution_count": null,
      "metadata": {
        "id": "09vFmSGV0QZ7"
      },
      "outputs": [],
      "source": [
        "from sklearn.svm import SVC"
      ]
    },
    {
      "cell_type": "code",
      "execution_count": null,
      "metadata": {
        "id": "ph6xcm0x0QZ7"
      },
      "outputs": [],
      "source": [
        "svm = SVC()"
      ]
    },
    {
      "cell_type": "code",
      "execution_count": null,
      "metadata": {
        "id": "Xx1InxhC0QZ8"
      },
      "outputs": [],
      "source": [
        "svm.fit(x_train, y_train)"
      ]
    },
    {
      "cell_type": "code",
      "execution_count": null,
      "metadata": {
        "id": "dTGvNQfc0QZ8"
      },
      "outputs": [],
      "source": [
        "pred_svm = svm.predict(x_test)"
      ]
    },
    {
      "cell_type": "code",
      "execution_count": null,
      "metadata": {
        "id": "5weDWXY80QZ8"
      },
      "outputs": [],
      "source": [
        "print(confusion_matrix(y_test, pred_svm))\n",
        "print('\\n')\n",
        "print(classification_report(y_test, pred_svm))"
      ]
    },
    {
      "cell_type": "markdown",
      "metadata": {
        "id": "Rb_coaT20QZ8"
      },
      "source": [
        "We now tend to find the best parameters to improve our svm model"
      ]
    },
    {
      "cell_type": "code",
      "execution_count": null,
      "metadata": {
        "id": "XPkm9T1N0QZ9"
      },
      "outputs": [],
      "source": [
        "from sklearn.model_selection import GridSearchCV"
      ]
    },
    {
      "cell_type": "code",
      "execution_count": null,
      "metadata": {
        "id": "H5Or-3UD0QZ9"
      },
      "outputs": [],
      "source": [
        "param_grid = {'C':[0.1, 1, 10, 100, 1000], 'gamma':[1, 0.1, 0.01, 0.001, 0.0001]}"
      ]
    },
    {
      "cell_type": "code",
      "execution_count": null,
      "metadata": {
        "id": "XOFVu5x00QZ9"
      },
      "outputs": [],
      "source": [
        "grid = GridSearchCV(SVC(), param_grid, refit=True, verbose=3)"
      ]
    },
    {
      "cell_type": "code",
      "execution_count": null,
      "metadata": {
        "id": "cd1XNnsJ0QZ9"
      },
      "outputs": [],
      "source": [
        "grid.fit(x_train, y_train)"
      ]
    },
    {
      "cell_type": "code",
      "execution_count": null,
      "metadata": {
        "id": "llumzXX30QZ-"
      },
      "outputs": [],
      "source": [
        "grid.best_params_"
      ]
    },
    {
      "cell_type": "code",
      "execution_count": null,
      "metadata": {
        "id": "hsieBGs_0QZ-"
      },
      "outputs": [],
      "source": [
        "pred_svm_grid = grid.predict(x_test)"
      ]
    },
    {
      "cell_type": "code",
      "execution_count": null,
      "metadata": {
        "id": "gaTnVvP_0QZ-"
      },
      "outputs": [],
      "source": [
        "print(confusion_matrix(y_test, pred_svm_grid))\n",
        "print('\\n')\n",
        "print(classification_report(y_test, pred_svm_grid))"
      ]
    },
    {
      "cell_type": "markdown",
      "metadata": {
        "id": "sbTSTvEV0QZ-"
      },
      "source": [
        "# KMC"
      ]
    },
    {
      "cell_type": "markdown",
      "metadata": {
        "id": "GL2G14fa0QZ_"
      },
      "source": [
        "This is an unsupervised learning algorithm to organise the given data into a number of clusters. Lets see if we can use this for our prediction."
      ]
    },
    {
      "cell_type": "code",
      "execution_count": null,
      "metadata": {
        "id": "KQOnfrNX0QZ_"
      },
      "outputs": [],
      "source": [
        "from sklearn.cluster import KMeans"
      ]
    },
    {
      "cell_type": "code",
      "execution_count": null,
      "metadata": {
        "id": "k1q3OMdx0QZ_"
      },
      "outputs": [],
      "source": [
        "kmm = KMeans(n_clusters=2)"
      ]
    },
    {
      "cell_type": "code",
      "execution_count": null,
      "metadata": {
        "id": "0MaXRtne0QZ_"
      },
      "outputs": [],
      "source": [
        "kmm.fit(x_test)"
      ]
    },
    {
      "cell_type": "code",
      "execution_count": null,
      "metadata": {
        "id": "Tt4oRovE0QaA"
      },
      "outputs": [],
      "source": [
        "pred_kmm = kmm.labels_"
      ]
    },
    {
      "cell_type": "code",
      "execution_count": null,
      "metadata": {
        "id": "MIgRf_G90QaA"
      },
      "outputs": [],
      "source": [
        "pred_kmm"
      ]
    },
    {
      "cell_type": "code",
      "execution_count": null,
      "metadata": {
        "id": "5jkQXOHt0QaA"
      },
      "outputs": [],
      "source": [
        "print(confusion_matrix(y_test, pred_kmm))\n",
        "print('\\n')\n",
        "print(classification_report(y_test, pred_kmm))"
      ]
    },
    {
      "cell_type": "markdown",
      "metadata": {
        "id": "yNwtbElP03FM"
      },
      "source": [
        "# ANN"
      ]
    },
    {
      "cell_type": "code",
      "execution_count": null,
      "metadata": {
        "id": "j2hp1Rsb0441"
      },
      "outputs": [],
      "source": [
        "from sklearn.preprocessing import MinMaxScaler"
      ]
    },
    {
      "cell_type": "code",
      "execution_count": null,
      "metadata": {
        "id": "1kwQ_VFG2dhf"
      },
      "outputs": [],
      "source": [
        "scaler = MinMaxScaler()"
      ]
    },
    {
      "cell_type": "code",
      "execution_count": null,
      "metadata": {
        "id": "NyK1ZMrC2eS2"
      },
      "outputs": [],
      "source": [
        "x_train = scaler.fit_transform(x_train)"
      ]
    },
    {
      "cell_type": "code",
      "execution_count": null,
      "metadata": {
        "id": "-35bo81O2hky"
      },
      "outputs": [],
      "source": [
        "x_test = scaler.transform(x_test)"
      ]
    },
    {
      "cell_type": "code",
      "execution_count": null,
      "metadata": {
        "id": "0ylFSiw62jye"
      },
      "outputs": [],
      "source": [
        "from tensorflow.keras.models import Sequential"
      ]
    },
    {
      "cell_type": "code",
      "execution_count": null,
      "metadata": {
        "id": "DO4jCcyu2m5M"
      },
      "outputs": [],
      "source": [
        "from tensorflow.keras.layers import Dense"
      ]
    },
    {
      "cell_type": "code",
      "execution_count": null,
      "metadata": {
        "id": "xp6m9GxD2vo6"
      },
      "outputs": [],
      "source": [
        "x_train.shape"
      ]
    },
    {
      "cell_type": "code",
      "execution_count": null,
      "metadata": {
        "id": "xC8d_xnN22lg"
      },
      "outputs": [],
      "source": [
        "model = Sequential()\n",
        "\n",
        "model.add(Dense(30,activation='relu'))\n",
        "model.add(Dense(15,activation='relu'))\n",
        "\n",
        "# BINARY CLASSIFICATION\n",
        "model.add(Dense(1,activation='sigmoid'))\n",
        "\n",
        "model.compile(optimizer = 'adam',loss = 'binary_crossentropy')"
      ]
    },
    {
      "cell_type": "code",
      "execution_count": null,
      "metadata": {
        "id": "jwjel6eJ6smu"
      },
      "outputs": [],
      "source": [
        "model.fit(x=x_train,y=y_train,epochs=600,validation_data=(x_test,y_test))"
      ]
    },
    {
      "cell_type": "code",
      "execution_count": null,
      "metadata": {
        "id": "lPyBkLXa6t-l"
      },
      "outputs": [],
      "source": [
        "losses = pd.DataFrame(model.history.history)"
      ]
    },
    {
      "cell_type": "code",
      "execution_count": null,
      "metadata": {
        "id": "V2tHCq9a6x4i"
      },
      "outputs": [],
      "source": [
        "losses.plot()"
      ]
    },
    {
      "cell_type": "code",
      "execution_count": null,
      "metadata": {
        "id": "96Z1Zx2560hC"
      },
      "outputs": [],
      "source": [
        "predictions=model.predict(x_test)"
      ]
    },
    {
      "cell_type": "code",
      "execution_count": null,
      "metadata": {
        "id": "6Giu9vNiOnFm"
      },
      "outputs": [],
      "source": [
        "predictions"
      ]
    },
    {
      "cell_type": "code",
      "execution_count": null,
      "metadata": {
        "id": "7JFk6EkdPMfO"
      },
      "outputs": [],
      "source": [
        "final_predictions = []\n",
        "for x in predictions:\n",
        "  if x>0.5:\n",
        "    final_predictions.append([1])\n",
        "  else:\n",
        "    final_predictions.append([0])\n",
        "\n",
        "final_predictions = np.array(final_predictions)"
      ]
    },
    {
      "cell_type": "code",
      "execution_count": null,
      "metadata": {
        "id": "eUFqBnlpPvTA"
      },
      "outputs": [],
      "source": [
        "final_predictions"
      ]
    },
    {
      "cell_type": "code",
      "execution_count": null,
      "metadata": {
        "id": "tgW8JREK8Hlt"
      },
      "outputs": [],
      "source": [
        "from sklearn.metrics import classification_report,confusion_matrix"
      ]
    },
    {
      "cell_type": "code",
      "execution_count": null,
      "metadata": {
        "id": "z6DIS3zG8LVQ"
      },
      "outputs": [],
      "source": [
        "print(confusion_matrix(y_test,final_predictions))\n",
        "print('\\n')\n",
        "print(classification_report(y_test,final_predictions))"
      ]
    }
  ],
  "metadata": {
    "colab": {
      "collapsed_sections": [],
      "name": " Cancer_classifier.ipynb",
      "provenance": [],
      "include_colab_link": true
    },
    "kernelspec": {
      "display_name": "Python 3",
      "language": "python",
      "name": "python3"
    },
    "language_info": {
      "codemirror_mode": {
        "name": "ipython",
        "version": 3
      },
      "file_extension": ".py",
      "mimetype": "text/x-python",
      "name": "python",
      "nbconvert_exporter": "python",
      "pygments_lexer": "ipython3",
      "version": "3.8.5"
    }
  },
  "nbformat": 4,
  "nbformat_minor": 0
}